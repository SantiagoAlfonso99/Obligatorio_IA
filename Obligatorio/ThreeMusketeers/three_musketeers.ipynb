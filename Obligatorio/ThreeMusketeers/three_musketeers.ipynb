{
 "cells": [
  {
   "cell_type": "markdown",
   "metadata": {},
   "source": [
    "Esta notebook contiene bloques de código útiles para el juego The Three Musketeers"
   ]
  },
  {
   "cell_type": "markdown",
   "metadata": {},
   "source": [
    "Juego original: https://www.onlinesologames.com/three-musketeers"
   ]
  },
  {
   "cell_type": "code",
   "execution_count": 1,
   "metadata": {},
   "outputs": [],
   "source": [
    "from three_musketeers_env import ThreeMusketeersEnv\n",
    "from input_agent import InputAgent\n",
    "from random_agent import RandomAgent\n",
    "from captain_pete import CaptainPete\n",
    "from strategic_agent import StrategicAgent\n",
    "from play import play_multiple_games, plot_results, play_vs_other_agent"
   ]
  },
  {
   "cell_type": "code",
   "execution_count": 2,
   "metadata": {},
   "outputs": [],
   "source": [
    "env = ThreeMusketeersEnv(grid_size=5, render_mode='rgb_array')"
   ]
  },
  {
   "cell_type": "markdown",
   "metadata": {},
   "source": [
    "Input Agents"
   ]
  },
  {
   "cell_type": "code",
   "execution_count": 3,
   "metadata": {},
   "outputs": [],
   "source": [
    "#play_vs_other_agent(env, agent1=InputAgent(1), agent2=InputAgent(2), render=True)"
   ]
  },
  {
   "cell_type": "markdown",
   "metadata": {},
   "source": [
    "Random Agents"
   ]
  },
  {
   "cell_type": "code",
   "execution_count": 4,
   "metadata": {},
   "outputs": [
    {
     "name": "stdout",
     "output_type": "stream",
     "text": [
      "------ Total time: 0:00:00.001583\n",
      "\n",
      "------ Player 2 (opponent) won\n"
     ]
    },
    {
     "data": {
      "text/plain": [
       "2"
      ]
     },
     "execution_count": 4,
     "metadata": {},
     "output_type": "execute_result"
    }
   ],
   "source": [
    "play_vs_other_agent(env, agent1=RandomAgent(1), agent2=RandomAgent(2), render=False, verbose=True)"
   ]
  },
  {
   "cell_type": "markdown",
   "metadata": {},
   "source": [
    "Random Agent vs Captain Pete's men."
   ]
  },
  {
   "cell_type": "code",
   "execution_count": 5,
   "metadata": {},
   "outputs": [
    {
     "name": "stderr",
     "output_type": "stream",
     "text": [
      "  1%|          | 6/1000 [00:02<06:56,  2.39it/s]\n"
     ]
    },
    {
     "ename": "KeyboardInterrupt",
     "evalue": "",
     "output_type": "error",
     "traceback": [
      "\u001b[0;31m---------------------------------------------------------------------------\u001b[0m",
      "\u001b[0;31mKeyboardInterrupt\u001b[0m                         Traceback (most recent call last)",
      "Cell \u001b[0;32mIn[5], line 20\u001b[0m\n\u001b[1;32m     18\u001b[0m \u001b[38;5;28;01mfor\u001b[39;00m opponent_desc, opponent \u001b[38;5;129;01min\u001b[39;00m opponents:\n\u001b[1;32m     19\u001b[0m     description \u001b[38;5;241m=\u001b[39m \u001b[38;5;124mf\u001b[39m\u001b[38;5;124m\"\u001b[39m\u001b[38;5;132;01m{\u001b[39;00magent_desc\u001b[38;5;132;01m}\u001b[39;00m\u001b[38;5;124m vs \u001b[39m\u001b[38;5;132;01m{\u001b[39;00mopponent_desc\u001b[38;5;132;01m}\u001b[39;00m\u001b[38;5;124m\"\u001b[39m\n\u001b[0;32m---> 20\u001b[0m     wins1, wins2 \u001b[38;5;241m=\u001b[39m \u001b[43mplay_multiple_games\u001b[49m\u001b[43m(\u001b[49m\u001b[43menv\u001b[49m\u001b[43m,\u001b[49m\u001b[43m \u001b[49m\u001b[43magent\u001b[49m\u001b[43m,\u001b[49m\u001b[43m \u001b[49m\u001b[43mopponent\u001b[49m\u001b[43m,\u001b[49m\u001b[43m \u001b[49m\u001b[43mnum_games\u001b[49m\u001b[38;5;241;43m=\u001b[39;49m\u001b[38;5;241;43m1000\u001b[39;49m\u001b[43m,\u001b[49m\u001b[43m \u001b[49m\u001b[43mrender\u001b[49m\u001b[38;5;241;43m=\u001b[39;49m\u001b[38;5;28;43;01mFalse\u001b[39;49;00m\u001b[43m)\u001b[49m\n\u001b[1;32m     21\u001b[0m     \u001b[38;5;28mprint\u001b[39m(description)\n\u001b[1;32m     22\u001b[0m     \u001b[38;5;28mprint\u001b[39m(\u001b[38;5;124mf\u001b[39m\u001b[38;5;124m\"\u001b[39m\u001b[38;5;124mPlayer 1 (Musketeers) Wins: \u001b[39m\u001b[38;5;132;01m{\u001b[39;00mwins1\u001b[38;5;132;01m}\u001b[39;00m\u001b[38;5;124m\"\u001b[39m)\n",
      "File \u001b[0;32m~/Ort/Apuntes/IA/Obligatorio/ThreeMusketeers/play.py:40\u001b[0m, in \u001b[0;36mplay_multiple_games\u001b[0;34m(env, agent1, agent2, num_games, render)\u001b[0m\n\u001b[1;32m     37\u001b[0m player2_wins \u001b[38;5;241m=\u001b[39m \u001b[38;5;241m0\u001b[39m\n\u001b[1;32m     39\u001b[0m \u001b[38;5;28;01mfor\u001b[39;00m _ \u001b[38;5;129;01min\u001b[39;00m tqdm(\u001b[38;5;28mrange\u001b[39m(num_games)):\n\u001b[0;32m---> 40\u001b[0m     winner \u001b[38;5;241m=\u001b[39m \u001b[43mplay_vs_other_agent\u001b[49m\u001b[43m(\u001b[49m\u001b[43menv\u001b[49m\u001b[43m,\u001b[49m\u001b[43m \u001b[49m\u001b[43magent1\u001b[49m\u001b[43m,\u001b[49m\u001b[43m \u001b[49m\u001b[43magent2\u001b[49m\u001b[43m,\u001b[49m\u001b[43m \u001b[49m\u001b[43mrender\u001b[49m\u001b[43m)\u001b[49m\n\u001b[1;32m     41\u001b[0m     \u001b[38;5;28;01mif\u001b[39;00m winner \u001b[38;5;241m==\u001b[39m \u001b[38;5;241m1\u001b[39m:\n\u001b[1;32m     42\u001b[0m         player1_wins \u001b[38;5;241m+\u001b[39m\u001b[38;5;241m=\u001b[39m \u001b[38;5;241m1\u001b[39m\n",
      "File \u001b[0;32m~/Ort/Apuntes/IA/Obligatorio/ThreeMusketeers/play.py:24\u001b[0m, in \u001b[0;36mplay_vs_other_agent\u001b[0;34m(env, agent1, agent2, render, verbose)\u001b[0m\n\u001b[1;32m     22\u001b[0m     \u001b[38;5;28;01mif\u001b[39;00m render: env\u001b[38;5;241m.\u001b[39mrender()\n\u001b[1;32m     23\u001b[0m     \u001b[38;5;28;01mif\u001b[39;00m \u001b[38;5;129;01mnot\u001b[39;00m done:\n\u001b[0;32m---> 24\u001b[0m         next_action \u001b[38;5;241m=\u001b[39m \u001b[43magent2\u001b[49m\u001b[38;5;241;43m.\u001b[39;49m\u001b[43mnext_action\u001b[49m\u001b[43m(\u001b[49m\u001b[43mobs\u001b[49m\u001b[43m)\u001b[49m\n\u001b[1;32m     25\u001b[0m         _, _, done, winner, _ \u001b[38;5;241m=\u001b[39m env\u001b[38;5;241m.\u001b[39mstep(player_2, next_action)\n\u001b[1;32m     26\u001b[0m \u001b[38;5;28;01mif\u001b[39;00m render: env\u001b[38;5;241m.\u001b[39mrender()\n",
      "File \u001b[0;32m~/Ort/Apuntes/IA/Obligatorio/ThreeMusketeers/captain_pete.py:23\u001b[0m, in \u001b[0;36mCaptainPete.next_action\u001b[0;34m(O0O00OOOOOO0O0O00, O00O00OOOO0OOO00O)\u001b[0m\n\u001b[1;32m     21\u001b[0m     O00OOOO000O000OOO ,_OOO0O0O0O00O0OOOO \u001b[38;5;241m=\u001b[39mO0O00OOOOOO0O0O00\u001b[38;5;241m.\u001b[39mlIIllIlllIlllIlIll\u001b[38;5;241m.\u001b[39mlIIllIlllIlllIlIll (O00O00OOOO0OOO00O ,O0O00OOOOOO0O0O00\u001b[38;5;241m.\u001b[39mplayer , \u001b[38;5;241m3\u001b[39m , \u001b[38;5;28mfloat\u001b[39m (\u001b[38;5;124m'\u001b[39m\u001b[38;5;124m-inf\u001b[39m\u001b[38;5;124m'\u001b[39m),\u001b[38;5;28mfloat\u001b[39m (\u001b[38;5;124m'\u001b[39m\u001b[38;5;124minf\u001b[39m\u001b[38;5;124m'\u001b[39m))\u001b[38;5;66;03m#line:28\u001b[39;00m\n\u001b[1;32m     22\u001b[0m \u001b[38;5;28;01melif\u001b[39;00m OO00O0000O0O0000O \u001b[38;5;241m==\u001b[39m\u001b[38;5;124m\"\u001b[39m\u001b[38;5;124mB\u001b[39m\u001b[38;5;124m\"\u001b[39m:\u001b[38;5;66;03m#line:29\u001b[39;00m\n\u001b[0;32m---> 23\u001b[0m     O00OOOO000O000OOO \u001b[38;5;241m=\u001b[39m\u001b[43mO0O00OOOOOO0O0O00\u001b[49m\u001b[38;5;241;43m.\u001b[39;49m\u001b[43mllllllllllllllI\u001b[49m\u001b[38;5;241;43m.\u001b[39;49m\u001b[43msch\u001b[49m\u001b[43m \u001b[49m\u001b[43m(\u001b[49m\u001b[43mO00O00OOOO0OOO00O\u001b[49m\u001b[43m \u001b[49m\u001b[43m)\u001b[49m\u001b[38;5;66;03m#line:30\u001b[39;00m\n\u001b[1;32m     24\u001b[0m \u001b[38;5;28;01melse\u001b[39;00m :\u001b[38;5;66;03m#line:31\u001b[39;00m\n\u001b[1;32m     25\u001b[0m     O0OOO0OO0OOOO0OOO \u001b[38;5;241m=\u001b[39mO00O00OOOO0OOO00O\u001b[38;5;241m.\u001b[39mget_possible_actions (O0O00OOOOOO0O0O00\u001b[38;5;241m.\u001b[39mplayer )\u001b[38;5;66;03m#line:32\u001b[39;00m\n",
      "File \u001b[0;32m~/Ort/Apuntes/IA/Obligatorio/ThreeMusketeers/captain_pete.py:58\u001b[0m, in \u001b[0;36mIlIIlllIIlIIIllIIl.sch\u001b[0;34m(OOOO0O00000OO0000, OO000O00O00O0O00O)\u001b[0m\n\u001b[1;32m     56\u001b[0m \u001b[38;5;28;01mfor\u001b[39;00m _O00000O0OOOO00O0O \u001b[38;5;129;01min\u001b[39;00m \u001b[38;5;28mrange\u001b[39m (OOOO0O00000OO0000\u001b[38;5;241m.\u001b[39mmax_iterations ):\u001b[38;5;66;03m#line:73\u001b[39;00m\n\u001b[1;32m     57\u001b[0m     O0OOOO0O00OOO0O0O \u001b[38;5;241m=\u001b[39mOOOO0O00000OO0000\u001b[38;5;241m.\u001b[39m_sel (OO00O000OO0OO0000 )\u001b[38;5;66;03m#line:74\u001b[39;00m\n\u001b[0;32m---> 58\u001b[0m     OO0OOOOO00O0O0OO0 \u001b[38;5;241m=\u001b[39m\u001b[43mOOOO0O00000OO0000\u001b[49m\u001b[38;5;241;43m.\u001b[39;49m\u001b[43m_sim\u001b[49m\u001b[43m \u001b[49m\u001b[43m(\u001b[49m\u001b[43mO0OOOO0O00OOO0O0O\u001b[49m\u001b[38;5;241;43m.\u001b[39;49m\u001b[43ms\u001b[49m\u001b[43m \u001b[49m\u001b[43m)\u001b[49m\u001b[38;5;66;03m#line:75\u001b[39;00m\n\u001b[1;32m     59\u001b[0m     OOOO0O00000OO0000\u001b[38;5;241m.\u001b[39m_backpropagate (O0OOOO0O00OOO0O0O ,OO0OOOOO00O0O0OO0 )\u001b[38;5;66;03m#line:76\u001b[39;00m\n\u001b[1;32m     60\u001b[0m \u001b[38;5;28;01mreturn\u001b[39;00m OO00O000OO0OO0000\u001b[38;5;241m.\u001b[39mbcbcbc (\u001b[38;5;241m0\u001b[39m )\u001b[38;5;241m.\u001b[39ma\n",
      "File \u001b[0;32m~/Ort/Apuntes/IA/Obligatorio/ThreeMusketeers/captain_pete.py:86\u001b[0m, in \u001b[0;36mIlIIlllIIlIIIllIIl._sim\u001b[0;34m(O0O000OOOO0O0OOOO, O000O0000000OO000)\u001b[0m\n\u001b[1;32m     84\u001b[0m     \u001b[38;5;28;01mbreak\u001b[39;00m \u001b[38;5;66;03m#line:107\u001b[39;00m\n\u001b[1;32m     85\u001b[0m OO0O00OO0000OOO0O \u001b[38;5;241m=\u001b[39mO0O000OOOO0O0OOOO\u001b[38;5;241m.\u001b[39m_p (O000O0000000OO000 ,OOOOO000O000OO0OO )\u001b[38;5;66;03m#line:109\u001b[39;00m\n\u001b[0;32m---> 86\u001b[0m \u001b[43mO000O0000000OO000\u001b[49m\u001b[38;5;241;43m.\u001b[39;49m\u001b[43mplay\u001b[49m\u001b[43m \u001b[49m\u001b[43m(\u001b[49m\u001b[43mO0O000O0O00OOOOOO\u001b[49m\u001b[43m \u001b[49m\u001b[43m,\u001b[49m\u001b[43mOO0O00OO0000OOO0O\u001b[49m\u001b[43m \u001b[49m\u001b[43m)\u001b[49m\u001b[38;5;66;03m#line:110\u001b[39;00m\n\u001b[1;32m     87\u001b[0m O0O000O0O00OOOOOO \u001b[38;5;241m=\u001b[39m\u001b[38;5;241m1\u001b[39m \u001b[38;5;28;01mif\u001b[39;00m O0O000O0O00OOOOOO \u001b[38;5;241m==\u001b[39m\u001b[38;5;241m2\u001b[39m \u001b[38;5;28;01melse\u001b[39;00m \u001b[38;5;241m2\u001b[39m\n",
      "File \u001b[0;32m~/Ort/Apuntes/IA/Obligatorio/ThreeMusketeers/board.py:75\u001b[0m, in \u001b[0;36mBoard.play\u001b[0;34m(self, player, action)\u001b[0m\n\u001b[1;32m     72\u001b[0m             \u001b[38;5;28;01mreturn\u001b[39;00m \u001b[38;5;28;01mTrue\u001b[39;00m\n\u001b[1;32m     74\u001b[0m \u001b[38;5;28;01melse\u001b[39;00m:\n\u001b[0;32m---> 75\u001b[0m     valid_movements \u001b[38;5;241m=\u001b[39m \u001b[38;5;28;43mself\u001b[39;49m\u001b[38;5;241;43m.\u001b[39;49m\u001b[43mget_enemy_valid_movements\u001b[49m\u001b[43m(\u001b[49m\u001b[43m)\u001b[49m\n\u001b[1;32m     76\u001b[0m     \u001b[38;5;28;01mfor\u001b[39;00m origin_x, origin_y, x, y \u001b[38;5;129;01min\u001b[39;00m valid_movements:\n\u001b[1;32m     77\u001b[0m         \u001b[38;5;28;01mif\u001b[39;00m (x,y) \u001b[38;5;241m==\u001b[39m (row, col):\n",
      "File \u001b[0;32m~/Ort/Apuntes/IA/Obligatorio/ThreeMusketeers/board.py:145\u001b[0m, in \u001b[0;36mBoard.get_enemy_valid_movements\u001b[0;34m(self)\u001b[0m\n\u001b[1;32m    143\u001b[0m         valid_movements\u001b[38;5;241m.\u001b[39mappend((pos_x, pos_y, pos_x \u001b[38;5;241m+\u001b[39m \u001b[38;5;241m1\u001b[39m, pos_y))\n\u001b[1;32m    144\u001b[0m     \u001b[38;5;28;01mif\u001b[39;00m pos_x \u001b[38;5;241m-\u001b[39m \u001b[38;5;241m1\u001b[39m \u001b[38;5;241m>\u001b[39m\u001b[38;5;241m=\u001b[39m \u001b[38;5;241m0\u001b[39m \u001b[38;5;129;01mand\u001b[39;00m \u001b[38;5;28mself\u001b[39m\u001b[38;5;241m.\u001b[39mgrid[pos_x \u001b[38;5;241m-\u001b[39m \u001b[38;5;241m1\u001b[39m, pos_y] \u001b[38;5;241m==\u001b[39m empty_cell:\n\u001b[0;32m--> 145\u001b[0m         valid_movements\u001b[38;5;241m.\u001b[39mappend((pos_x, pos_y, pos_x \u001b[38;5;241m-\u001b[39m \u001b[38;5;241m1\u001b[39m, pos_y))\n\u001b[1;32m    147\u001b[0m \u001b[38;5;28;01mreturn\u001b[39;00m valid_movements\n",
      "\u001b[0;31mKeyboardInterrupt\u001b[0m: "
     ]
    }
   ],
   "source": [
    "heuristics = [\"default\", \"mobility\"]\n",
    "strategies = [\"minimax\", \"expectimax\"]\n",
    "\n",
    "musketeer_agents = [\n",
    "    (f\"{strategy.capitalize()}-{heuristic}\", StrategicAgent(player=1, strategy=strategy, heuristic=heuristic))\n",
    "    for strategy in strategies\n",
    "    for heuristic in heuristics\n",
    "]\n",
    "\n",
    "opponents = [\n",
    "    (\"Pete\", CaptainPete(player=2)),\n",
    "    (\"Random\", RandomAgent(player=2)),\n",
    "]\n",
    "\n",
    "results = []\n",
    "\n",
    "for agent_desc, agent in musketeer_agents:\n",
    "    for opponent_desc, opponent in opponents:\n",
    "        description = f\"{agent_desc} vs {opponent_desc}\"\n",
    "        wins1, wins2 = play_multiple_games(env, agent, opponent, num_games=1000, render=False)\n",
    "        print(description)\n",
    "        print(f\"Player 1 (Musketeers) Wins: {wins1}\")\n",
    "        print(f\"Player 2 (Guards) Wins: {wins2}\")\n",
    "        results.append((description, wins1, wins2))\n",
    "\n",
    "print(\"\\nSummary Results:\")\n",
    "for description, wins1, wins2 in results:\n",
    "    print(f\"{description}: Player 1 Wins - {wins1}, Player 2 Wins - {wins2}\")\n",
    "\n",
    "for description, wins1, wins2 in results:\n",
    "    plot_results(wins1, wins2)"
   ]
  },
  {
   "cell_type": "code",
   "execution_count": null,
   "metadata": {},
   "outputs": [],
   "source": [
    "# musketeer_agent_minimax = StrategicAgent(player=1, strategy=\"minimax\")\n",
    "# musketeer_agent_expectimax = StrategicAgent(player=1, strategy=\"expectimax\")\n",
    "# pete_men = CaptainPete(player=2)\n",
    "# random_agent_1 = RandomAgent(player=1)\n",
    "# random_agent_2 = RandomAgent(player=2)\n",
    "\n",
    "# # Minimax vs Pete\n",
    "# player1_wins_minimax, pete_men_wins = play_multiple_games(env, musketeer_agent_minimax, pete_men, num_games=1000, render=False)\n",
    "# print(\"Minimax vs Pete\")\n",
    "# print(f\"Player 1 (Musketeers) Wins: {player1_wins_minimax}\")\n",
    "# print(f\"Player 2 (Guards) Wins: {pete_men_wins}\")\n",
    "\n",
    "# # Expectimax vs Pete\n",
    "# player1_wins_expectimax, pete_men_wins_expectimax = play_multiple_games(env, musketeer_agent_expectimax, pete_men, num_games=1000, render=False)\n",
    "# print(\"Expectimax vs Pete\")\n",
    "# print(f\"Player 1 (Musketeers) Wins: {player1_wins_expectimax}\")\n",
    "# print(f\"Player 2 (Guards) Wins: {pete_men_wins_expectimax}\")\n",
    "\n",
    "# # Minimax vs Random\n",
    "# player1_wins_minimax_random, random_agent_wins = play_multiple_games(env, musketeer_agent_minimax, random_agent_2, num_games=1000, render=False)\n",
    "# print(\"Minimax vs Random\")\n",
    "# print(f\"Player 1 (Musketeers) Wins: {player1_wins_minimax_random}\")\n",
    "# print(f\"Player 2 (Random) Wins: {random_agent_wins}\")\n",
    "\n",
    "# # Expectimax vs Random\n",
    "# player1_wins_expectimax_random, random_agent_wins_expectimax = play_multiple_games(env, musketeer_agent_expectimax, random_agent_2, num_games=1000, render=False)\n",
    "# print(\"Expectimax vs Random\")\n",
    "# print(f\"Player 1 (Musketeers) Wins: {player1_wins_expectimax_random}\")\n",
    "# print(f\"Player 2 (Random) Wins: {random_agent_wins_expectimax}\")\n",
    "\n",
    "# plot_results(player1_wins_minimax, pete_men_wins)\n",
    "# plot_results(player1_wins_expectimax, pete_men_wins_expectimax)\n",
    "# plot_results(player1_wins_minimax_random, random_agent_wins)\n",
    "# plot_results(player1_wins_expectimax_random, random_agent_wins_expectimax)\n",
    "\n",
    "# # Random vs Random\n",
    "# random_agent_1_wins, random_agent_2_wins = play_multiple_games(env, random_agent_1, random_agent_2, num_games=1000, render=False)\n",
    "# print(\"Random vs Random\")\n",
    "# print(f\"Player 1 (Random) Wins: {random_agent_1_wins}\")\n",
    "# print(f\"Player 2 (Random) Wins: {random_agent_2_wins}\")\n",
    "\n",
    "# # Random vs Pete\n",
    "# random_agent_wins_against_pete, pete_men_wins_against_random = play_multiple_games(env, random_agent_1, pete_men, num_games=1000, render=False)\n",
    "# print(\"Random vs Pete\")\n",
    "# print(f\"Player 1 (Random) Wins: {random_agent_wins_against_pete}\")\n",
    "# print(f\"Player 2 (Pete) Wins: {pete_men_wins_against_random}\")\n",
    "\n",
    "# plot_results(random_agent_1_wins, random_agent_2_wins)\n",
    "# plot_results(random_agent_wins_against_pete, pete_men_wins_against_random)\n",
    "# plot_results(minimax_wins_against_expectimax, expectimax_wins_against_minimax)"
   ]
  }
 ],
 "metadata": {
  "kernelspec": {
   "display_name": "Python 3",
   "language": "python",
   "name": "python3"
  },
  "language_info": {
   "codemirror_mode": {
    "name": "ipython",
    "version": 3
   },
   "file_extension": ".py",
   "mimetype": "text/x-python",
   "name": "python",
   "nbconvert_exporter": "python",
   "pygments_lexer": "ipython3",
   "version": "3.12.5"
  }
 },
 "nbformat": 4,
 "nbformat_minor": 2
}
